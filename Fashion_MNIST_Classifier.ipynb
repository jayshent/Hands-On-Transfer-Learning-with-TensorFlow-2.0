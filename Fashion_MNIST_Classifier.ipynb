{
  "nbformat": 4,
  "nbformat_minor": 0,
  "metadata": {
    "colab": {
      "name": "Fashion-MNIST Classifier.ipynb",
      "provenance": [],
      "collapsed_sections": [],
      "authorship_tag": "ABX9TyPFvuGF1kr4VTXn/XHoYy9G",
      "include_colab_link": true
    },
    "kernelspec": {
      "name": "python3",
      "display_name": "Python 3"
    },
    "language_info": {
      "name": "python"
    }
  },
  "cells": [
    {
      "cell_type": "markdown",
      "metadata": {
        "id": "view-in-github",
        "colab_type": "text"
      },
      "source": [
        "<a href=\"https://colab.research.google.com/github/jayshent/Hands-On-Transfer-Learning-with-TensorFlow-2.0/blob/main/Fashion_MNIST_Classifier.ipynb\" target=\"_parent\"><img src=\"https://colab.research.google.com/assets/colab-badge.svg\" alt=\"Open In Colab\"/></a>"
      ]
    },
    {
      "cell_type": "markdown",
      "metadata": {
        "id": "arZhEFLTE99Y"
      },
      "source": [
        "# INSTALLS & IMPORTS"
      ]
    },
    {
      "cell_type": "code",
      "metadata": {
        "id": "taJJ0lUDEzNa"
      },
      "source": [
        "# Activate TensorFlow 2.x version in Colab\n",
        "%tensorflow_version 2.x"
      ],
      "execution_count": null,
      "outputs": []
    },
    {
      "cell_type": "code",
      "metadata": {
        "id": "EpmFq60CFTIe"
      },
      "source": [
        "# Import TensorFlow and tf.keras\n",
        "import tensorflow as tf\n",
        "\n",
        "# Import Numpy & helper libraries\n",
        "import numpy as np\n",
        "import matplotlib.pyplot as plt"
      ],
      "execution_count": null,
      "outputs": []
    },
    {
      "cell_type": "markdown",
      "metadata": {
        "id": "GRy7LNeiFotw"
      },
      "source": [
        "#DATA"
      ]
    },
    {
      "cell_type": "markdown",
      "metadata": {
        "id": "guNiOzqaFulA"
      },
      "source": [
        "### 1. Load the Fashion-MNIST data\n",
        "\n",
        "\n",
        "\n"
      ]
    },
    {
      "cell_type": "code",
      "metadata": {
        "colab": {
          "base_uri": "https://localhost:8080/"
        },
        "id": "YemASxILF9d4",
        "outputId": "ec033284-0027-4963-9e4d-2c7932448546"
      },
      "source": [
        "# Load the fashion-mnist preshuffled train datafrom tf.keras.datasets\n",
        "(train_images, train_labels), (test_images, test_labels) = tf.keras.datasets.fashion_mnist.load_data()"
      ],
      "execution_count": null,
      "outputs": [
        {
          "output_type": "stream",
          "name": "stdout",
          "text": [
            "Downloading data from https://storage.googleapis.com/tensorflow/tf-keras-datasets/train-labels-idx1-ubyte.gz\n",
            "32768/29515 [=================================] - 0s 0us/step\n",
            "40960/29515 [=========================================] - 0s 0us/step\n",
            "Downloading data from https://storage.googleapis.com/tensorflow/tf-keras-datasets/train-images-idx3-ubyte.gz\n",
            "26427392/26421880 [==============================] - 0s 0us/step\n",
            "26435584/26421880 [==============================] - 0s 0us/step\n",
            "Downloading data from https://storage.googleapis.com/tensorflow/tf-keras-datasets/t10k-labels-idx1-ubyte.gz\n",
            "16384/5148 [===============================================================================================] - 0s 0us/step\n",
            "Downloading data from https://storage.googleapis.com/tensorflow/tf-keras-datasets/t10k-images-idx3-ubyte.gz\n",
            "4423680/4422102 [==============================] - 0s 0us/step\n",
            "4431872/4422102 [==============================] - 0s 0us/step\n"
          ]
        }
      ]
    },
    {
      "cell_type": "markdown",
      "metadata": {
        "id": "S7Bc61qKHjAq"
      },
      "source": [
        "### 2. Explore the Fashion-MNIST dataset"
      ]
    },
    {
      "cell_type": "code",
      "metadata": {
        "colab": {
          "base_uri": "https://localhost:8080/"
        },
        "id": "wPep0RSPHtzR",
        "outputId": "23167536-e996-43e4-ebee-e3cfd19be9fc"
      },
      "source": [
        "# There are 6000 training examples with images (28x28) and corresponding labels\n",
        "print(\"train_images shape:\", train_images.shape, \"train_labels shape:\", train_labels.shape)\n",
        "print(\"test_images shape:\", test_images.shape, \"test_labels shape:\", test_labels.shape)"
      ],
      "execution_count": null,
      "outputs": [
        {
          "output_type": "stream",
          "name": "stdout",
          "text": [
            "train_images shape: (60000, 28, 28) train_labels shape: (60000,)\n",
            "test_images shape: (10000, 28, 28) test_labels shape: (10000,)\n"
          ]
        }
      ]
    },
    {
      "cell_type": "markdown",
      "metadata": {
        "id": "LM7uKmz9Iora"
      },
      "source": [
        "### 3. DATA PREPROCESSING"
      ]
    },
    {
      "cell_type": "code",
      "metadata": {
        "id": "nIXO4xDvIw2s"
      },
      "source": [
        "# Convert data to float32 and normalize the input data\n",
        "train_images = train_images.astype('float32') / 255\n",
        "test_images = test_images.astype('float32') / 255"
      ],
      "execution_count": null,
      "outputs": []
    },
    {
      "cell_type": "code",
      "metadata": {
        "id": "QEVrSx38JIqi"
      },
      "source": [
        "# Reshape input data from (28,28) to (28,28,1), which is what the nueral network is expecting\n",
        "train_images = train_images.reshape(train_images.shape[0],28,28,1)\n",
        "test_images = test_images.reshape(test_images.shape[0],28,28,1)"
      ],
      "execution_count": null,
      "outputs": []
    },
    {
      "cell_type": "code",
      "metadata": {
        "id": "GXjwOK3QKLlJ"
      },
      "source": [
        "# One-hot encode the labels\n",
        "train_labels = tf.keras.utils.to_categorical(train_labels, 10)\n",
        "test_labels = tf.keras.utils.to_categorical(test_labels, 10)"
      ],
      "execution_count": null,
      "outputs": []
    },
    {
      "cell_type": "code",
      "metadata": {
        "colab": {
          "base_uri": "https://localhost:8080/"
        },
        "id": "_AYCg32RJop1",
        "outputId": "1bb3e8b7-cff3-42a3-c0dc-d15107ea16ae"
      },
      "source": [
        "# Take a look the dataset shape after reshape\n",
        "print(\"train_images shape:\", train_images.shape, \"train_labels shape:\", train_labels.shape)\n",
        "print(\"test_images shape:\" , test_images.shape, \"test_labels shape:\", test_labels.shape)"
      ],
      "execution_count": null,
      "outputs": [
        {
          "output_type": "stream",
          "name": "stdout",
          "text": [
            "train_images shape: (60000, 28, 28, 1) train_labels shape: (60000, 10)\n",
            "test_images shape: (10000, 28, 28, 1) test_labels shape: (10000, 10)\n"
          ]
        }
      ]
    },
    {
      "cell_type": "markdown",
      "metadata": {
        "id": "P0pIX51v4JA6"
      },
      "source": [
        "### Model Architecture\n"
      ]
    },
    {
      "cell_type": "code",
      "metadata": {
        "id": "FLI9iWru4SFm"
      },
      "source": [
        "# Define a CNN with keras sequential model \n",
        "def create_model():\n",
        "\n",
        "  # Define the model architecture\n",
        "  model = tf.keras.models.Sequential([\n",
        "    # Must define the input shape in the first layer of the neural network\n",
        "    tf.keras.layers.Conv2D(filters=32, kernel_size=3, padding='same', activation='relu', input_shape=(28,28,1)),\n",
        "    tf.keras.layers.MaxPooling2D(pool_size=2),\n",
        "    tf.keras.layers.Dropout(0.3),\n",
        "\n",
        "    tf.keras.layers.Conv2D(filters=64, kernel_size=3, padding='same', activation='relu'),\n",
        "    tf.keras.layers.MaxPooling2D(pool_size=2),\n",
        "    tf.keras.layers.Dropout(0.3),\n",
        "\n",
        "    tf.keras.layers.Flatten(),\n",
        "    tf.keras.layers.Dense(10, activation='softmax')\n",
        "  ])\n",
        "\n",
        "  # Compile the model\n",
        "  model.compile(loss=tf.keras.losses.categorical_crossentropy,\n",
        "                optimizer=tf.keras.optimizers.Adam(),\n",
        "                metrics=['accuracy'])\n",
        "  \n",
        "  return model\n",
        "                                      \n"
      ],
      "execution_count": null,
      "outputs": []
    },
    {
      "cell_type": "code",
      "metadata": {
        "id": "MQUFiO7Y4TMx"
      },
      "source": [
        "# Create model\n",
        "model = create_model()"
      ],
      "execution_count": null,
      "outputs": []
    },
    {
      "cell_type": "code",
      "metadata": {
        "colab": {
          "base_uri": "https://localhost:8080/"
        },
        "id": "_cVFBTce7tNE",
        "outputId": "9193f56c-9ef9-4866-def8-255cebddedfc"
      },
      "source": [
        "# Inspect model architecture\n",
        "model.summary()"
      ],
      "execution_count": null,
      "outputs": [
        {
          "output_type": "stream",
          "name": "stdout",
          "text": [
            "Model: \"sequential\"\n",
            "_________________________________________________________________\n",
            "Layer (type)                 Output Shape              Param #   \n",
            "=================================================================\n",
            "conv2d (Conv2D)              (None, 28, 28, 32)        320       \n",
            "_________________________________________________________________\n",
            "max_pooling2d (MaxPooling2D) (None, 14, 14, 32)        0         \n",
            "_________________________________________________________________\n",
            "dropout (Dropout)            (None, 14, 14, 32)        0         \n",
            "_________________________________________________________________\n",
            "conv2d_1 (Conv2D)            (None, 14, 14, 64)        18496     \n",
            "_________________________________________________________________\n",
            "max_pooling2d_1 (MaxPooling2 (None, 7, 7, 64)          0         \n",
            "_________________________________________________________________\n",
            "dropout_1 (Dropout)          (None, 7, 7, 64)          0         \n",
            "_________________________________________________________________\n",
            "flatten (Flatten)            (None, 3136)              0         \n",
            "_________________________________________________________________\n",
            "dense (Dense)                (None, 10)                31370     \n",
            "=================================================================\n",
            "Total params: 50,186\n",
            "Trainable params: 50,186\n",
            "Non-trainable params: 0\n",
            "_________________________________________________________________\n"
          ]
        }
      ]
    },
    {
      "cell_type": "code",
      "metadata": {
        "colab": {
          "base_uri": "https://localhost:8080/"
        },
        "id": "fj5tsJ_p7-wJ",
        "outputId": "eac4cdcd-0d15-41e4-a747-37d6caa8db26"
      },
      "source": [
        "%%time\n",
        "model.fit(train_images,\n",
        "          train_labels,\n",
        "          batch_size=64,\n",
        "          epochs=5)"
      ],
      "execution_count": null,
      "outputs": [
        {
          "output_type": "stream",
          "name": "stdout",
          "text": [
            "Epoch 1/5\n",
            "938/938 [==============================] - 77s 81ms/step - loss: 0.5395 - accuracy: 0.8055\n",
            "Epoch 2/5\n",
            "938/938 [==============================] - 76s 81ms/step - loss: 0.3704 - accuracy: 0.8686\n",
            "Epoch 3/5\n",
            "938/938 [==============================] - 75s 80ms/step - loss: 0.3288 - accuracy: 0.8832\n",
            "Epoch 4/5\n",
            "938/938 [==============================] - 75s 80ms/step - loss: 0.3012 - accuracy: 0.8921\n",
            "Epoch 5/5\n",
            "938/938 [==============================] - 75s 79ms/step - loss: 0.2887 - accuracy: 0.8973\n",
            "CPU times: user 11min 2s, sys: 17.2 s, total: 11min 19s\n",
            "Wall time: 6min 18s\n"
          ]
        },
        {
          "output_type": "execute_result",
          "data": {
            "text/plain": [
              "<keras.callbacks.History at 0x7f68ffbda550>"
            ]
          },
          "metadata": {},
          "execution_count": 12
        }
      ]
    },
    {
      "cell_type": "code",
      "metadata": {
        "colab": {
          "base_uri": "https://localhost:8080/"
        },
        "id": "juvErIok9r9I",
        "outputId": "c0e9cab3-54a8-461e-8282-73e0ff6ab042"
      },
      "source": [
        "model.evaluate(test_images, test_labels, verbose=2)"
      ],
      "execution_count": null,
      "outputs": [
        {
          "output_type": "stream",
          "name": "stdout",
          "text": [
            "313/313 - 3s - loss: 0.2812 - accuracy: 0.9005\n"
          ]
        },
        {
          "output_type": "execute_result",
          "data": {
            "text/plain": [
              "[0.28116247057914734, 0.9004999995231628]"
            ]
          },
          "metadata": {},
          "execution_count": 13
        }
      ]
    }
  ]
}